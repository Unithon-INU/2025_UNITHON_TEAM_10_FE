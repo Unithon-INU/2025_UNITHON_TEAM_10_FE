{
 "cells": [
  {
   "cell_type": "code",
   "execution_count": 1,
   "id": "b8189836",
   "metadata": {},
   "outputs": [
    {
     "name": "stdout",
     "output_type": "stream",
     "text": [
      "Collecting package metadata (current_repodata.json): done\n",
      "Solving environment: done\n",
      "\n",
      "\n",
      "==> WARNING: A newer version of conda exists. <==\n",
      "  current version: 4.14.0\n",
      "  latest version: 25.3.1\n",
      "\n",
      "Please update conda by running\n",
      "\n",
      "    $ conda update -n base -c conda-forge conda\n",
      "\n",
      "\n",
      "\n",
      "## Package Plan ##\n",
      "\n",
      "  environment location: /Users/kimwash/miniforge3/envs/waste-classifier\n",
      "\n",
      "  added / updated specs:\n",
      "    - pytorch\n",
      "    - torchaudio\n",
      "    - torchvision\n",
      "\n",
      "\n",
      "The following NEW packages will be INSTALLED:\n",
      "\n",
      "  aom                conda-forge/osx-arm64::aom-3.9.1-h7bae524_0\n",
      "  dav1d              conda-forge/osx-arm64::dav1d-1.2.1-hb547adb_0\n",
      "  filelock           conda-forge/noarch::filelock-3.18.0-pyhd8ed1ab_0\n",
      "  freetype           conda-forge/osx-arm64::freetype-2.13.3-h1d14073_0\n",
      "  fsspec             conda-forge/noarch::fsspec-2025.3.2-pyhd8ed1ab_0\n",
      "  giflib             conda-forge/osx-arm64::giflib-5.2.2-h93a5062_0\n",
      "  gmp                conda-forge/osx-arm64::gmp-6.3.0-h7bae524_2\n",
      "  gmpy2              conda-forge/osx-arm64::gmpy2-2.1.5-py310h805dbd7_3\n",
      "  icu                conda-forge/osx-arm64::icu-75.1-hfee45f7_0\n",
      "  jinja2             conda-forge/noarch::jinja2-3.1.6-pyhd8ed1ab_0\n",
      "  kaldi              conda-forge/osx-arm64::kaldi-5.5.1112-cpu_h175306b_7\n",
      "  lcms2              conda-forge/osx-arm64::lcms2-2.17-h7eeda09_0\n",
      "  lerc               conda-forge/osx-arm64::lerc-4.0.0-h9a09cb3_0\n",
      "  libabseil          conda-forge/osx-arm64::libabseil-20250127.1-cxx17_h07bc746_0\n",
      "  libavif16          conda-forge/osx-arm64::libavif16-1.2.1-h3861c80_2\n",
      "  libblas            conda-forge/osx-arm64::libblas-3.9.0-31_h10e41b3_openblas\n",
      "  libcblas           conda-forge/osx-arm64::libcblas-3.9.0-31_hb3479ef_openblas\n",
      "  libde265           conda-forge/osx-arm64::libde265-1.0.15-h2ffa867_0\n",
      "  libdeflate         conda-forge/osx-arm64::libdeflate-1.23-hec38601_0\n",
      "  libgfortran        conda-forge/osx-arm64::libgfortran-14.2.0-heb5dd2a_105\n",
      "  libgfortran5       conda-forge/osx-arm64::libgfortran5-14.2.0-h2c44a93_105\n",
      "  libheif            conda-forge/osx-arm64::libheif-1.19.7-gpl_h79e6334_100\n",
      "  libjpeg-turbo      conda-forge/osx-arm64::libjpeg-turbo-3.0.0-hb547adb_1\n",
      "  liblapack          conda-forge/osx-arm64::liblapack-3.9.0-31_hc9a63f6_openblas\n",
      "  liblapacke         conda-forge/osx-arm64::liblapacke-3.9.0-31_hbb7bcf8_openblas\n",
      "  libopenblas        conda-forge/osx-arm64::libopenblas-0.3.29-openmp_hf332438_0\n",
      "  libpng             conda-forge/osx-arm64::libpng-1.6.47-h3783ad8_0\n",
      "  libprotobuf        conda-forge/osx-arm64::libprotobuf-5.29.3-hccd9074_1\n",
      "  libtiff            conda-forge/osx-arm64::libtiff-4.7.0-h551f018_3\n",
      "  libtorch           conda-forge/osx-arm64::libtorch-2.6.0-cpu_generic_h755bf8d_2\n",
      "  libuv              conda-forge/osx-arm64::libuv-1.50.0-h5505292_0\n",
      "  libwebp-base       conda-forge/osx-arm64::libwebp-base-1.5.0-h2471fea_0\n",
      "  libxcb             conda-forge/osx-arm64::libxcb-1.17.0-hdb1d25a_0\n",
      "  llvm-openmp        conda-forge/osx-arm64::llvm-openmp-20.1.3-hdb05f8b_0\n",
      "  markupsafe         conda-forge/osx-arm64::markupsafe-3.0.2-py310hc74094e_1\n",
      "  mpc                conda-forge/osx-arm64::mpc-1.3.1-h8f1351a_1\n",
      "  mpfr               conda-forge/osx-arm64::mpfr-4.2.1-hb693164_3\n",
      "  mpmath             conda-forge/noarch::mpmath-1.3.0-pyhd8ed1ab_1\n",
      "  networkx           conda-forge/noarch::networkx-3.4.2-pyh267e887_2\n",
      "  nomkl              conda-forge/noarch::nomkl-1.0-h5ca1d4c_0\n",
      "  numpy              conda-forge/osx-arm64::numpy-2.2.5-py310h4d83441_0\n",
      "  openfst            conda-forge/osx-arm64::openfst-1.8.3-h950e60b_3\n",
      "  openjpeg           conda-forge/osx-arm64::openjpeg-2.5.3-h8a3d83b_0\n",
      "  optree             conda-forge/osx-arm64::optree-0.15.0-py310h7f4e7e6_0\n",
      "  pillow             conda-forge/osx-arm64::pillow-11.1.0-py310h61efb56_0\n",
      "  pthread-stubs      conda-forge/osx-arm64::pthread-stubs-0.4-hd74edd7_1002\n",
      "  pybind11           conda-forge/noarch::pybind11-2.13.6-pyh1ec8472_2\n",
      "  pybind11-global    conda-forge/noarch::pybind11-global-2.13.6-pyh415d2e4_2\n",
      "  pytorch            conda-forge/osx-arm64::pytorch-2.6.0-cpu_generic_py310_h8980c24_2\n",
      "  rav1e              conda-forge/osx-arm64::rav1e-0.6.6-h69fbcac_2\n",
      "  sleef              conda-forge/osx-arm64::sleef-3.8-h8391f65_0\n",
      "  svt-av1            conda-forge/osx-arm64::svt-av1-3.0.2-h8ab69cd_0\n",
      "  sympy              conda-forge/noarch::sympy-1.13.3-pypyh2585a3b_103\n",
      "  torchaudio         conda-forge/osx-arm64::torchaudio-2.6.0-cpu_py310h1acedd7_1\n",
      "  torchvision        conda-forge/osx-arm64::torchvision-0.21.0-cpu_py310_hc307cfc_1\n",
      "  torchvision-extra~ conda-forge/osx-arm64::torchvision-extra-decoders-0.0.2-py310ha3957cf_2\n",
      "  typing-extensions  conda-forge/noarch::typing-extensions-4.13.2-h0e9735f_0\n",
      "  x265               conda-forge/osx-arm64::x265-3.5-hbc6ce65_3\n",
      "  xorg-libxau        conda-forge/osx-arm64::xorg-libxau-1.0.12-h5505292_0\n",
      "  xorg-libxdmcp      conda-forge/osx-arm64::xorg-libxdmcp-1.1.5-hd74edd7_0\n",
      "  zstd               conda-forge/osx-arm64::zstd-1.5.7-h6491c7d_2\n",
      "\n",
      "\n",
      "Preparing transaction: done\n",
      "Verifying transaction: done\n",
      "Executing transaction: done\n",
      "Retrieving notices: ...working... done\n",
      "\n",
      "Note: you may need to restart the kernel to use updated packages.\n"
     ]
    }
   ],
   "source": [
    "%conda install pytorch torchvision torchaudio -c pytorch-nightly"
   ]
  },
  {
   "cell_type": "code",
   "execution_count": 2,
   "id": "e8ed4f42",
   "metadata": {},
   "outputs": [
    {
     "name": "stdout",
     "output_type": "stream",
     "text": [
      "Collecting onnx\n",
      "  Downloading onnx-1.17.0-cp310-cp310-macosx_12_0_universal2.whl.metadata (16 kB)\n",
      "Collecting onnxruntime\n",
      "  Downloading onnxruntime-1.21.1-cp310-cp310-macosx_13_0_universal2.whl.metadata (4.5 kB)\n",
      "Collecting scikit-learn\n",
      "  Downloading scikit_learn-1.6.1-cp310-cp310-macosx_12_0_arm64.whl.metadata (31 kB)\n",
      "Collecting matplotlib\n",
      "  Downloading matplotlib-3.10.1-cp310-cp310-macosx_11_0_arm64.whl.metadata (11 kB)\n",
      "Collecting pandas\n",
      "  Downloading pandas-2.2.3-cp310-cp310-macosx_11_0_arm64.whl.metadata (89 kB)\n",
      "Collecting tqdm\n",
      "  Downloading tqdm-4.67.1-py3-none-any.whl.metadata (57 kB)\n",
      "Requirement already satisfied: numpy>=1.20 in /Users/kimwash/miniforge3/envs/waste-classifier/lib/python3.10/site-packages (from onnx) (2.2.5)\n",
      "Collecting protobuf>=3.20.2 (from onnx)\n",
      "  Using cached protobuf-6.30.2-cp39-abi3-macosx_10_9_universal2.whl.metadata (593 bytes)\n",
      "Collecting coloredlogs (from onnxruntime)\n",
      "  Downloading coloredlogs-15.0.1-py2.py3-none-any.whl.metadata (12 kB)\n",
      "Collecting flatbuffers (from onnxruntime)\n",
      "  Downloading flatbuffers-25.2.10-py2.py3-none-any.whl.metadata (875 bytes)\n",
      "Requirement already satisfied: packaging in /Users/kimwash/miniforge3/envs/waste-classifier/lib/python3.10/site-packages (from onnxruntime) (25.0)\n",
      "Requirement already satisfied: sympy in /Users/kimwash/miniforge3/envs/waste-classifier/lib/python3.10/site-packages (from onnxruntime) (1.13.3)\n",
      "Collecting scipy>=1.6.0 (from scikit-learn)\n",
      "  Downloading scipy-1.15.2-cp310-cp310-macosx_14_0_arm64.whl.metadata (61 kB)\n",
      "Collecting joblib>=1.2.0 (from scikit-learn)\n",
      "  Downloading joblib-1.4.2-py3-none-any.whl.metadata (5.4 kB)\n",
      "Collecting threadpoolctl>=3.1.0 (from scikit-learn)\n",
      "  Downloading threadpoolctl-3.6.0-py3-none-any.whl.metadata (13 kB)\n",
      "Collecting contourpy>=1.0.1 (from matplotlib)\n",
      "  Downloading contourpy-1.3.2-cp310-cp310-macosx_11_0_arm64.whl.metadata (5.5 kB)\n",
      "Collecting cycler>=0.10 (from matplotlib)\n",
      "  Downloading cycler-0.12.1-py3-none-any.whl.metadata (3.8 kB)\n",
      "Collecting fonttools>=4.22.0 (from matplotlib)\n",
      "  Downloading fonttools-4.57.0-cp310-cp310-macosx_10_9_universal2.whl.metadata (102 kB)\n",
      "Collecting kiwisolver>=1.3.1 (from matplotlib)\n",
      "  Downloading kiwisolver-1.4.8-cp310-cp310-macosx_11_0_arm64.whl.metadata (6.2 kB)\n",
      "Requirement already satisfied: pillow>=8 in /Users/kimwash/miniforge3/envs/waste-classifier/lib/python3.10/site-packages (from matplotlib) (11.1.0)\n",
      "Collecting pyparsing>=2.3.1 (from matplotlib)\n",
      "  Downloading pyparsing-3.2.3-py3-none-any.whl.metadata (5.0 kB)\n",
      "Requirement already satisfied: python-dateutil>=2.7 in /Users/kimwash/miniforge3/envs/waste-classifier/lib/python3.10/site-packages (from matplotlib) (2.9.0.post0)\n",
      "Collecting pytz>=2020.1 (from pandas)\n",
      "  Downloading pytz-2025.2-py2.py3-none-any.whl.metadata (22 kB)\n",
      "Collecting tzdata>=2022.7 (from pandas)\n",
      "  Downloading tzdata-2025.2-py2.py3-none-any.whl.metadata (1.4 kB)\n",
      "Requirement already satisfied: six>=1.5 in /Users/kimwash/miniforge3/envs/waste-classifier/lib/python3.10/site-packages (from python-dateutil>=2.7->matplotlib) (1.17.0)\n",
      "Collecting humanfriendly>=9.1 (from coloredlogs->onnxruntime)\n",
      "  Downloading humanfriendly-10.0-py2.py3-none-any.whl.metadata (9.2 kB)\n",
      "Requirement already satisfied: mpmath<1.4,>=1.1.0 in /Users/kimwash/miniforge3/envs/waste-classifier/lib/python3.10/site-packages (from sympy->onnxruntime) (1.3.0)\n",
      "Downloading onnx-1.17.0-cp310-cp310-macosx_12_0_universal2.whl (16.6 MB)\n",
      "\u001b[2K   \u001b[90m━━━━━━━━━━━━━━━━━━━━━━━━━━━━━━━━━━━━━━━━\u001b[0m \u001b[32m16.6/16.6 MB\u001b[0m \u001b[31m11.4 MB/s\u001b[0m eta \u001b[36m0:00:00\u001b[0m00:01\u001b[0m00:01\u001b[0m\n",
      "\u001b[?25hDownloading onnxruntime-1.21.1-cp310-cp310-macosx_13_0_universal2.whl (33.6 MB)\n",
      "\u001b[2K   \u001b[90m━━━━━━━━━━━━━━━━━━━━━━━━━━━━━━━━━━━━━━━━\u001b[0m \u001b[32m33.6/33.6 MB\u001b[0m \u001b[31m11.6 MB/s\u001b[0m eta \u001b[36m0:00:00\u001b[0m00:01\u001b[0m00:01\u001b[0m\n",
      "\u001b[?25hDownloading scikit_learn-1.6.1-cp310-cp310-macosx_12_0_arm64.whl (11.1 MB)\n",
      "\u001b[2K   \u001b[90m━━━━━━━━━━━━━━━━━━━━━━━━━━━━━━━━━━━━━━━━\u001b[0m \u001b[32m11.1/11.1 MB\u001b[0m \u001b[31m10.9 MB/s\u001b[0m eta \u001b[36m0:00:00\u001b[0m \u001b[36m0:00:01\u001b[0m\n",
      "\u001b[?25hDownloading matplotlib-3.10.1-cp310-cp310-macosx_11_0_arm64.whl (8.0 MB)\n",
      "\u001b[2K   \u001b[90m━━━━━━━━━━━━━━━━━━━━━━━━━━━━━━━━━━━━━━━━\u001b[0m \u001b[32m8.0/8.0 MB\u001b[0m \u001b[31m11.4 MB/s\u001b[0m eta \u001b[36m0:00:00\u001b[0ma \u001b[36m0:00:01\u001b[0m\n",
      "\u001b[?25hDownloading pandas-2.2.3-cp310-cp310-macosx_11_0_arm64.whl (11.3 MB)\n",
      "\u001b[2K   \u001b[90m━━━━━━━━━━━━━━━━━━━━━━━━━━━━━━━━━━━━━━━━\u001b[0m \u001b[32m11.3/11.3 MB\u001b[0m \u001b[31m11.5 MB/s\u001b[0m eta \u001b[36m0:00:00\u001b[0m \u001b[36m0:00:01\u001b[0m\n",
      "\u001b[?25hDownloading tqdm-4.67.1-py3-none-any.whl (78 kB)\n",
      "Downloading contourpy-1.3.2-cp310-cp310-macosx_11_0_arm64.whl (253 kB)\n",
      "Downloading cycler-0.12.1-py3-none-any.whl (8.3 kB)\n",
      "Downloading fonttools-4.57.0-cp310-cp310-macosx_10_9_universal2.whl (2.8 MB)\n",
      "\u001b[2K   \u001b[90m━━━━━━━━━━━━━━━━━━━━━━━━━━━━━━━━━━━━━━━━\u001b[0m \u001b[32m2.8/2.8 MB\u001b[0m \u001b[31m11.1 MB/s\u001b[0m eta \u001b[36m0:00:00\u001b[0ma \u001b[36m0:00:01\u001b[0m\n",
      "\u001b[?25hDownloading joblib-1.4.2-py3-none-any.whl (301 kB)\n",
      "Downloading kiwisolver-1.4.8-cp310-cp310-macosx_11_0_arm64.whl (65 kB)\n",
      "Using cached protobuf-6.30.2-cp39-abi3-macosx_10_9_universal2.whl (417 kB)\n",
      "Downloading pyparsing-3.2.3-py3-none-any.whl (111 kB)\n",
      "Downloading pytz-2025.2-py2.py3-none-any.whl (509 kB)\n",
      "Downloading scipy-1.15.2-cp310-cp310-macosx_14_0_arm64.whl (22.4 MB)\n",
      "\u001b[2K   \u001b[90m━━━━━━━━━━━━━━━━━━━━━━━━━━━━━━━━━━━━━━━━\u001b[0m \u001b[32m22.4/22.4 MB\u001b[0m \u001b[31m11.0 MB/s\u001b[0m eta \u001b[36m0:00:00\u001b[0ma \u001b[36m0:00:01\u001b[0m\n",
      "\u001b[?25hDownloading threadpoolctl-3.6.0-py3-none-any.whl (18 kB)\n",
      "Downloading tzdata-2025.2-py2.py3-none-any.whl (347 kB)\n",
      "Downloading coloredlogs-15.0.1-py2.py3-none-any.whl (46 kB)\n",
      "Downloading flatbuffers-25.2.10-py2.py3-none-any.whl (30 kB)\n",
      "Downloading humanfriendly-10.0-py2.py3-none-any.whl (86 kB)\n",
      "Installing collected packages: pytz, flatbuffers, tzdata, tqdm, threadpoolctl, scipy, pyparsing, protobuf, kiwisolver, joblib, humanfriendly, fonttools, cycler, contourpy, scikit-learn, pandas, onnx, matplotlib, coloredlogs, onnxruntime\n",
      "Successfully installed coloredlogs-15.0.1 contourpy-1.3.2 cycler-0.12.1 flatbuffers-25.2.10 fonttools-4.57.0 humanfriendly-10.0 joblib-1.4.2 kiwisolver-1.4.8 matplotlib-3.10.1 onnx-1.17.0 onnxruntime-1.21.1 pandas-2.2.3 protobuf-6.30.2 pyparsing-3.2.3 pytz-2025.2 scikit-learn-1.6.1 scipy-1.15.2 threadpoolctl-3.6.0 tqdm-4.67.1 tzdata-2025.2\n",
      "Note: you may need to restart the kernel to use updated packages.\n"
     ]
    }
   ],
   "source": [
    "%pip install onnx onnxruntime scikit-learn matplotlib pandas tqdm"
   ]
  },
  {
   "cell_type": "code",
   "execution_count": 3,
   "id": "6217d92f",
   "metadata": {},
   "outputs": [
    {
     "name": "stdout",
     "output_type": "stream",
     "text": [
      "Collecting opencv-python\n",
      "  Downloading opencv_python-4.11.0.86-cp37-abi3-macosx_13_0_arm64.whl.metadata (20 kB)\n",
      "Requirement already satisfied: pillow in /Users/kimwash/miniforge3/envs/waste-classifier/lib/python3.10/site-packages (11.1.0)\n",
      "Requirement already satisfied: numpy>=1.21.2 in /Users/kimwash/miniforge3/envs/waste-classifier/lib/python3.10/site-packages (from opencv-python) (2.2.5)\n",
      "Downloading opencv_python-4.11.0.86-cp37-abi3-macosx_13_0_arm64.whl (37.3 MB)\n",
      "\u001b[2K   \u001b[90m━━━━━━━━━━━━━━━━━━━━━━━━━━━━━━━━━━━━━━━━\u001b[0m \u001b[32m37.3/37.3 MB\u001b[0m \u001b[31m11.5 MB/s\u001b[0m eta \u001b[36m0:00:00\u001b[0ma \u001b[36m0:00:01\u001b[0m\n",
      "\u001b[?25hInstalling collected packages: opencv-python\n",
      "Successfully installed opencv-python-4.11.0.86\n",
      "Note: you may need to restart the kernel to use updated packages.\n"
     ]
    }
   ],
   "source": [
    "%pip install opencv-python pillow"
   ]
  },
  {
   "cell_type": "code",
   "execution_count": 4,
   "id": "42400ea1",
   "metadata": {},
   "outputs": [
    {
     "name": "stderr",
     "output_type": "stream",
     "text": [
      "Matplotlib is building the font cache; this may take a moment.\n"
     ]
    }
   ],
   "source": [
    "import torch\n",
    "import torchvision\n",
    "from torchvision import datasets, transforms, models\n",
    "import torch.nn as nn\n",
    "import torch.optim as optim\n",
    "from torch.utils.data import DataLoader\n",
    "import os\n",
    "from tqdm import tqdm\n",
    "import matplotlib.pyplot as plt"
   ]
  },
  {
   "cell_type": "code",
   "execution_count": 5,
   "id": "d2870620",
   "metadata": {},
   "outputs": [
    {
     "name": "stdout",
     "output_type": "stream",
     "text": [
      "Using device: mps\n"
     ]
    }
   ],
   "source": [
    "\n",
    "# M1 GPU 가속 여부 확인\n",
    "device = torch.device(\"mps\" if torch.backends.mps.is_available() else \"cpu\")\n",
    "print(\"Using device:\", device)\n"
   ]
  },
  {
   "cell_type": "code",
   "execution_count": 6,
   "id": "b4215061",
   "metadata": {},
   "outputs": [],
   "source": [
    "data_dir = \"./dataset\"\n",
    "transform = transforms.Compose([\n",
    "    transforms.Resize((224, 224)),\n",
    "    transforms.ToTensor(),\n",
    "])\n"
   ]
  },
  {
   "cell_type": "code",
   "execution_count": 7,
   "id": "9bd995cf",
   "metadata": {},
   "outputs": [
    {
     "name": "stdout",
     "output_type": "stream",
     "text": [
      "Classes: ['cardboard', 'glass', 'metal', 'paper', 'plastic', 'trash']\n"
     ]
    }
   ],
   "source": [
    "train_data = datasets.ImageFolder(os.path.join(data_dir, \"train\"), transform=transform)\n",
    "val_data = datasets.ImageFolder(os.path.join(data_dir, \"val\"), transform=transform)\n",
    "\n",
    "train_loader = DataLoader(train_data, batch_size=32, shuffle=True)\n",
    "val_loader = DataLoader(val_data, batch_size=32)\n",
    "\n",
    "class_names = train_data.classes\n",
    "print(\"Classes:\", class_names)\n"
   ]
  },
  {
   "cell_type": "code",
   "execution_count": 8,
   "id": "d0f17581",
   "metadata": {},
   "outputs": [
    {
     "name": "stderr",
     "output_type": "stream",
     "text": [
      "/Users/kimwash/miniforge3/envs/waste-classifier/lib/python3.10/site-packages/torchvision/models/_utils.py:208: UserWarning: The parameter 'pretrained' is deprecated since 0.13 and may be removed in the future, please use 'weights' instead.\n",
      "  warnings.warn(\n",
      "/Users/kimwash/miniforge3/envs/waste-classifier/lib/python3.10/site-packages/torchvision/models/_utils.py:223: UserWarning: Arguments other than a weight enum or `None` for 'weights' are deprecated since 0.13 and may be removed in the future. The current behavior is equivalent to passing `weights=MobileNet_V2_Weights.IMAGENET1K_V1`. You can also use `weights=MobileNet_V2_Weights.DEFAULT` to get the most up-to-date weights.\n",
      "  warnings.warn(msg)\n",
      "Downloading: \"https://download.pytorch.org/models/mobilenet_v2-b0353104.pth\" to /Users/kimwash/.cache/torch/hub/checkpoints/mobilenet_v2-b0353104.pth\n",
      "100%|██████████| 13.6M/13.6M [00:01<00:00, 11.1MB/s]\n",
      "100%|██████████| 79/79 [00:59<00:00,  1.33it/s]\n"
     ]
    },
    {
     "name": "stdout",
     "output_type": "stream",
     "text": [
      "[1] Loss: 0.6080\n"
     ]
    },
    {
     "name": "stderr",
     "output_type": "stream",
     "text": [
      "100%|██████████| 79/79 [00:44<00:00,  1.78it/s]\n"
     ]
    },
    {
     "name": "stdout",
     "output_type": "stream",
     "text": [
      "[2] Loss: 0.2724\n"
     ]
    },
    {
     "name": "stderr",
     "output_type": "stream",
     "text": [
      "100%|██████████| 79/79 [00:45<00:00,  1.75it/s]\n"
     ]
    },
    {
     "name": "stdout",
     "output_type": "stream",
     "text": [
      "[3] Loss: 0.2757\n"
     ]
    },
    {
     "name": "stderr",
     "output_type": "stream",
     "text": [
      "100%|██████████| 79/79 [00:44<00:00,  1.78it/s]\n"
     ]
    },
    {
     "name": "stdout",
     "output_type": "stream",
     "text": [
      "[4] Loss: 0.1686\n"
     ]
    },
    {
     "name": "stderr",
     "output_type": "stream",
     "text": [
      "100%|██████████| 79/79 [00:44<00:00,  1.79it/s]"
     ]
    },
    {
     "name": "stdout",
     "output_type": "stream",
     "text": [
      "[5] Loss: 0.0932\n"
     ]
    },
    {
     "name": "stderr",
     "output_type": "stream",
     "text": [
      "\n"
     ]
    }
   ],
   "source": [
    "\n",
    "model = models.mobilenet_v2(pretrained=True)\n",
    "model.classifier[1] = nn.Linear(model.last_channel, len(class_names))\n",
    "model = model.to(device)\n",
    "\n",
    "criterion = nn.CrossEntropyLoss()\n",
    "optimizer = optim.Adam(model.parameters(), lr=0.0005)\n",
    "\n",
    "EPOCHS = 5\n",
    "train_loss_history = []\n",
    "\n",
    "for epoch in range(EPOCHS):\n",
    "    model.train()\n",
    "    running_loss = 0.0\n",
    "    for inputs, labels in tqdm(train_loader):\n",
    "        inputs, labels = inputs.to(device), labels.to(device)\n",
    "\n",
    "        optimizer.zero_grad()\n",
    "        outputs = model(inputs)\n",
    "        loss = criterion(outputs, labels)\n",
    "        loss.backward()\n",
    "        optimizer.step()\n",
    "\n",
    "        running_loss += loss.item()\n",
    "    avg_loss = running_loss / len(train_loader)\n",
    "    train_loss_history.append(avg_loss)\n",
    "    print(f\"[{epoch+1}] Loss: {avg_loss:.4f}\")\n",
    "\n"
   ]
  },
  {
   "cell_type": "code",
   "execution_count": 9,
   "id": "8842ebd0",
   "metadata": {},
   "outputs": [
    {
     "data": {
      "image/png": "[encoded data removed]",
      "text/plain": [
       "<Figure size 640x480 with 1 Axes>"
      ]
     },
     "metadata": {},
     "output_type": "display_data"
    }
   ],
   "source": [
    "## ✅ 5. Loss 시각화\n",
    "plt.plot(train_loss_history)\n",
    "plt.title(\"Training Loss\")\n",
    "plt.xlabel(\"Epoch\")\n",
    "plt.ylabel(\"Loss\")\n",
    "plt.grid()\n",
    "plt.show()"
   ]
  },
  {
   "cell_type": "code",
   "execution_count": 20,
   "id": "697d0aa6",
   "metadata": {},
   "outputs": [
    {
     "name": "stdout",
     "output_type": "stream",
     "text": [
      "예측 결과: plastic\n"
     ]
    }
   ],
   "source": [
    "# 전처리 방식 (학습에 사용한 것과 동일)\n",
    "from PIL import Image\n",
    "\n",
    "\n",
    "preprocess = transforms.Compose([\n",
    "    transforms.Resize((224, 224)),\n",
    "    transforms.ToTensor(),\n",
    "])\n",
    "\n",
    "\n",
    "# 테스트할 이미지 경로\n",
    "image_path = \"dataset/val/plastic/3.jpeg\"\n",
    "image = Image.open(image_path).convert(\"RGB\")\n",
    "input_tensor = preprocess(image).unsqueeze(0).to(device)\n",
    "\n",
    "# 예측\n",
    "model.eval()\n",
    "with torch.no_grad():\n",
    "    output = model(input_tensor)\n",
    "    pred = torch.argmax(output, dim=1).item()\n",
    "    print(f\"예측 결과: {class_names[pred]}\")"
   ]
  },
  {
   "cell_type": "code",
   "execution_count": 21,
   "id": "4197fe97",
   "metadata": {},
   "outputs": [
    {
     "name": "stdout",
     "output_type": "stream",
     "text": [
      "ONNX 모델이 waste_classifier.onnx 로 저장되었습니다.\n"
     ]
    }
   ],
   "source": [
    "\n",
    "## ✅ 4. ONNX Export\n",
    "dummy_input = torch.randn(1, 3, 224, 224).to(device)\n",
    "torch.onnx.export(\n",
    "    model,\n",
    "    dummy_input,\n",
    "    \"waste_classifier.onnx\",\n",
    "    input_names=[\"input\"],\n",
    "    output_names=[\"output\"],\n",
    "    dynamic_axes={\"input\": {0: \"batch_size\"}, \"output\": {0: \"batch_size\"}},\n",
    "    opset_version=11\n",
    ")\n",
    "\n",
    "print(\"ONNX 모델이 waste_classifier.onnx 로 저장되었습니다.\")"
   ]
  },
  {
   "cell_type": "code",
   "execution_count": 1,
   "id": "ee1b7d44",
   "metadata": {},
   "outputs": [
    {
     "ename": "AttributeError",
     "evalue": "module 'onnxruntime.tools.convert_onnx_models_to_ort' has no attribute 'convert'",
     "output_type": "error",
     "traceback": [
      "\u001b[0;31m---------------------------------------------------------------------------\u001b[0m",
      "\u001b[0;31mAttributeError\u001b[0m                            Traceback (most recent call last)",
      "Cell \u001b[0;32mIn[1], line 3\u001b[0m\n\u001b[1;32m      1\u001b[0m \u001b[38;5;28;01mfrom\u001b[39;00m\u001b[38;5;250m \u001b[39m\u001b[38;5;21;01monnxruntime\u001b[39;00m\u001b[38;5;21;01m.\u001b[39;00m\u001b[38;5;21;01mtools\u001b[39;00m\u001b[38;5;250m \u001b[39m\u001b[38;5;28;01mimport\u001b[39;00m convert_onnx_models_to_ort\n\u001b[0;32m----> 3\u001b[0m \u001b[43mconvert_onnx_models_to_ort\u001b[49m\u001b[38;5;241;43m.\u001b[39;49m\u001b[43mconvert\u001b[49m(\n\u001b[1;32m      4\u001b[0m     model_input_paths\u001b[38;5;241m=\u001b[39m[\u001b[38;5;124m\"\u001b[39m\u001b[38;5;124mwaste_classifier.onnx\u001b[39m\u001b[38;5;124m\"\u001b[39m],\n\u001b[1;32m      5\u001b[0m     model_output_path\u001b[38;5;241m=\u001b[39m\u001b[38;5;124m\"\u001b[39m\u001b[38;5;124mwaste_classifier.ort\u001b[39m\u001b[38;5;124m\"\u001b[39m\n\u001b[1;32m      6\u001b[0m )\n",
      "\u001b[0;31mAttributeError\u001b[0m: module 'onnxruntime.tools.convert_onnx_models_to_ort' has no attribute 'convert'"
     ]
    }
   ],
   "source": [
    "from onnxruntime.tools import convert_onnx_models_to_ort\n",
    "\n",
    "convert_onnx_models_to_ort.convert(\n",
    "    model_input_paths=[\"waste_classifier.onnx\"],\n",
    "    model_output_path=\"waste_classifier.ort\"\n",
    ")\n"
   ]
  }
 ],
 "metadata": {
  "kernelspec": {
   "display_name": "waste-classifier",
   "language": "python",
   "name": "python3"
  },
  "language_info": {
   "codemirror_mode": {
    "name": "ipython",
    "version": 3
   },
   "file_extension": ".py",
   "mimetype": "text/x-python",
   "name": "python",
   "nbconvert_exporter": "python",
   "pygments_lexer": "ipython3",
   "version": "3.10.17"
  }
 },
 "nbformat": 4,
 "nbformat_minor": 5
}
